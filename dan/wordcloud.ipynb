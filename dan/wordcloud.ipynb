{
 "cells": [
  {
   "cell_type": "code",
   "execution_count": 1,
   "metadata": {},
   "outputs": [
    {
     "data": {
      "text/plain": [
       "<Figure size 640x480 with 1 Axes>"
      ]
     },
     "metadata": {},
     "output_type": "display_data"
    }
   ],
   "source": [
    "import numpy as np\n",
    "from PIL import Image\n",
    "from os import path\n",
    "import matplotlib.pyplot as plt\n",
    "import os\n",
    "import random\n",
    "\n",
    "from wordcloud import WordCloud, STOPWORDS\n",
    "\n",
    "\n",
    "# get data directory \n",
    "d = path.dirname(__file__) if \"__file__\" in locals() else os.getcwd()\n",
    "\n",
    "# read the mask image taken from\n",
    "mask = np.array(Image.open(path.join(d, \"./Resources/bitcoin.png\")))\n",
    "\n",
    "# read the json file for words\n",
    "text = open(path.join(d, 'twitterdump.json')).read()\n",
    "\n",
    "\n",
    "# adding specific stopwords\n",
    "stopwords = set(STOPWORDS)\n",
    "stopwords.add(\"https\")\n",
    "stopwords.add(\"ud838\")\n",
    "stopwords.add(\"u2026\")\n",
    "stopwords.add(\"ud83c\")\n",
    "stopwords.add(\"ud83d\")\n",
    "stopwords.add(\"arbitraj\")\n",
    "stopwords.add(\"arbingtool\")\n",
    "stopwords.add(\"estonia\")\n",
    "stopwords.add(\"tallim\")\n",
    "stopwords.add(\"tallinn\")\n",
    "stopwords.add(\"co\")\n",
    "stopwords.add(\"nhttps\")\n",
    "\n",
    "\n",
    "wc = WordCloud(max_words=1000, mask=mask, stopwords=stopwords, margin=10,\n",
    "               random_state=1).generate(text)\n",
    "\n",
    "# store default colored image\n",
    "default_colors = wc.to_array()\n",
    "wc.to_file(\"./Resources/bitcoinwords1a.png\")\n",
    "# plt.axis(\"off\")\n",
    "# plt.figure()\n",
    "plt.title(\"Default colors\")\n",
    "plt.imshow(default_colors, interpolation=\"bilinear\")\n",
    "plt.axis(\"off\")\n",
    "plt.show()"
   ]
  },
  {
   "cell_type": "code",
   "execution_count": null,
   "metadata": {},
   "outputs": [],
   "source": []
  },
  {
   "cell_type": "code",
   "execution_count": null,
   "metadata": {},
   "outputs": [],
   "source": []
  }
 ],
 "metadata": {
  "kernelspec": {
   "display_name": "Python 3",
   "language": "python",
   "name": "python3"
  },
  "language_info": {
   "codemirror_mode": {
    "name": "ipython",
    "version": 3
   },
   "file_extension": ".py",
   "mimetype": "text/x-python",
   "name": "python",
   "nbconvert_exporter": "python",
   "pygments_lexer": "ipython3",
   "version": "3.7.3"
  }
 },
 "nbformat": 4,
 "nbformat_minor": 2
}
