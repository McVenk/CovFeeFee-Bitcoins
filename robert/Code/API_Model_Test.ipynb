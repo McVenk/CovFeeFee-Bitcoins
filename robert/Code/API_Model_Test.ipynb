{
 "cells": [
  {
   "cell_type": "code",
   "execution_count": 9,
   "metadata": {},
   "outputs": [],
   "source": [
    "#import dependencies\n",
    "import os\n",
    "from sklearn.feature_extraction.text import CountVectorizer\n",
    "from sklearn.ensemble import RandomForestClassifier\n",
    "#from KaggleWord2VecUtility import KaggleWord2VecUtility\n",
    "from gensim.models import Word2Vec\n",
    "import pandas as pd\n",
    "import nltk\n",
    "import re\n",
    "from bs4 import BeautifulSoup\n",
    "from nltk.corpus import stopwords\n",
    "import numpy as np\n",
    "import gensim.models"
   ]
  },
  {
   "cell_type": "code",
   "execution_count": null,
   "metadata": {},
   "outputs": [],
   "source": []
  },
  {
   "cell_type": "code",
   "execution_count": 10,
   "metadata": {},
   "outputs": [
    {
     "name": "stderr",
     "output_type": "stream",
     "text": [
      "/anaconda3/lib/python3.7/site-packages/smart_open/smart_open_lib.py:398: UserWarning: This function is deprecated, use smart_open.open instead. See the migration notes for details: https://github.com/RaRe-Technologies/smart_open/blob/master/README.rst#migrating-to-the-new-open-function\n",
      "  'See the migration notes for details: %s' % _MIGRATION_NOTES_URL\n"
     ]
    }
   ],
   "source": [
    "# ~gensim.models.word2vec.Word2Vec.load\n",
    "model = gensim.models.word2vec.Word2Vec.load('model_300features_40minwords_10context.h5')"
   ]
  },
  {
   "cell_type": "code",
   "execution_count": 15,
   "metadata": {},
   "outputs": [],
   "source": [
    "#Reading the CSV file\n",
    "\n",
    "df = pd.read_csv('../Data/API_Call_Data/twitterdump.csv',header=None)"
   ]
  },
  {
   "cell_type": "code",
   "execution_count": 16,
   "metadata": {},
   "outputs": [
    {
     "data": {
      "text/html": [
       "<div>\n",
       "<style scoped>\n",
       "    .dataframe tbody tr th:only-of-type {\n",
       "        vertical-align: middle;\n",
       "    }\n",
       "\n",
       "    .dataframe tbody tr th {\n",
       "        vertical-align: top;\n",
       "    }\n",
       "\n",
       "    .dataframe thead th {\n",
       "        text-align: right;\n",
       "    }\n",
       "</style>\n",
       "<table border=\"1\" class=\"dataframe\">\n",
       "  <thead>\n",
       "    <tr style=\"text-align: right;\">\n",
       "      <th></th>\n",
       "      <th>0</th>\n",
       "      <th>1</th>\n",
       "      <th>2</th>\n",
       "      <th>3</th>\n",
       "      <th>4</th>\n",
       "      <th>5</th>\n",
       "    </tr>\n",
       "  </thead>\n",
       "  <tbody>\n",
       "    <tr>\n",
       "      <th>0</th>\n",
       "      <td>DateTime</td>\n",
       "      <td>Tweet</td>\n",
       "      <td>Handle</td>\n",
       "      <td>Followers</td>\n",
       "      <td>Location</td>\n",
       "      <td>Retweet Count</td>\n",
       "    </tr>\n",
       "    <tr>\n",
       "      <th>1</th>\n",
       "      <td>2019-07-06 17:23:51</td>\n",
       "      <td>$BCH and $BSV #hodler... smh \\n🤣🤣🤣🤣\\n\\n#crypto...</td>\n",
       "      <td>KoalaCryptos</td>\n",
       "      <td>564</td>\n",
       "      <td>The Moon</td>\n",
       "      <td>0</td>\n",
       "    </tr>\n",
       "    <tr>\n",
       "      <th>2</th>\n",
       "      <td>2019-07-06 17:23:43</td>\n",
       "      <td>LAST TRADE: SELL 0.03562599BTC@10287.1EUR\\nSEL...</td>\n",
       "      <td>digital_mine_</td>\n",
       "      <td>5750</td>\n",
       "      <td>STEEM BLOCKCHAIN</td>\n",
       "      <td>0</td>\n",
       "    </tr>\n",
       "    <tr>\n",
       "      <th>3</th>\n",
       "      <td>2019-07-06 17:23:05</td>\n",
       "      <td>With this project that consists of a good team...</td>\n",
       "      <td>maruf07388605</td>\n",
       "      <td>734</td>\n",
       "      <td>Bangladesh</td>\n",
       "      <td>0</td>\n",
       "    </tr>\n",
       "    <tr>\n",
       "      <th>4</th>\n",
       "      <td>2019-07-06 17:23:02</td>\n",
       "      <td>Join the faucet hub for free #bitcoin #cryptoc...</td>\n",
       "      <td>BitcoinTap</td>\n",
       "      <td>270</td>\n",
       "      <td>Tokyo</td>\n",
       "      <td>0</td>\n",
       "    </tr>\n",
       "  </tbody>\n",
       "</table>\n",
       "</div>"
      ],
      "text/plain": [
       "                     0                                                  1  \\\n",
       "0             DateTime                                              Tweet   \n",
       "1  2019-07-06 17:23:51  $BCH and $BSV #hodler... smh \\n🤣🤣🤣🤣\\n\\n#crypto...   \n",
       "2  2019-07-06 17:23:43  LAST TRADE: SELL 0.03562599BTC@10287.1EUR\\nSEL...   \n",
       "3  2019-07-06 17:23:05  With this project that consists of a good team...   \n",
       "4  2019-07-06 17:23:02  Join the faucet hub for free #bitcoin #cryptoc...   \n",
       "\n",
       "               2          3                 4              5  \n",
       "0         Handle  Followers          Location  Retweet Count  \n",
       "1   KoalaCryptos        564          The Moon              0  \n",
       "2  digital_mine_       5750  STEEM BLOCKCHAIN              0  \n",
       "3  maruf07388605        734        Bangladesh              0  \n",
       "4     BitcoinTap        270             Tokyo              0  "
      ]
     },
     "execution_count": 16,
     "metadata": {},
     "output_type": "execute_result"
    }
   ],
   "source": [
    "df.head()"
   ]
  },
  {
   "cell_type": "code",
   "execution_count": 18,
   "metadata": {},
   "outputs": [
    {
     "data": {
      "text/plain": [
       "<gensim.models.word2vec.Word2Vec at 0x1a357d0320>"
      ]
     },
     "execution_count": 18,
     "metadata": {},
     "output_type": "execute_result"
    }
   ],
   "source": [
    "model"
   ]
  },
  {
   "cell_type": "code",
   "execution_count": null,
   "metadata": {},
   "outputs": [],
   "source": []
  }
 ],
 "metadata": {
  "kernelspec": {
   "display_name": "Python 3",
   "language": "python",
   "name": "python3"
  },
  "language_info": {
   "codemirror_mode": {
    "name": "ipython",
    "version": 3
   },
   "file_extension": ".py",
   "mimetype": "text/x-python",
   "name": "python",
   "nbconvert_exporter": "python",
   "pygments_lexer": "ipython3",
   "version": "3.7.3"
  }
 },
 "nbformat": 4,
 "nbformat_minor": 2
}
